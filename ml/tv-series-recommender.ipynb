{
 "cells": [
  {
   "cell_type": "code",
   "execution_count": 6,
   "metadata": {
    "_cell_guid": "b1076dfc-b9ad-4769-8c92-a6c4dae69d19",
    "_uuid": "8f2839f25d086af736a60e9eeb907d3b93b6e0e5",
    "execution": {
     "iopub.execute_input": "2021-12-04T12:05:36.780733Z",
     "iopub.status.busy": "2021-12-04T12:05:36.77956Z",
     "iopub.status.idle": "2021-12-04T12:05:36.788823Z",
     "shell.execute_reply": "2021-12-04T12:05:36.787819Z",
     "shell.execute_reply.started": "2021-12-04T12:05:36.78068Z"
    }
   },
   "outputs": [],
   "source": [
    "# This Python 3 environment comes with many helpful analytics libraries installed\n",
    "# It is defined by the kaggle/python Docker image: https://github.com/kaggle/docker-python\n",
    "# For example, here's several helpful packages to load\n",
    "\n",
    "import numpy as np # linear algebra\n",
    "import pandas as pd # data processing, CSV file I/O (e.g. pd.read_csv)\n",
    "from sklearn.metrics.pairwise import cosine_similarity\n",
    "from sklearn.feature_extraction.text import CountVectorizer\n",
    "\n",
    "# Input data files are available in the read-only \"../input/\" directory\n",
    "# For example, running this (by clicking run or pressing Shift+Enter) will list all files under the input directory\n",
    "\n",
    "import os\n",
    "for dirname, _, filenames in os.walk('/kaggle/input'):\n",
    "    for filename in filenames:\n",
    "        print(os.path.join(dirname, filename))\n",
    "\n",
    "# You can write up to 20GB to the current directory (/kaggle/working/) that gets preserved as output when you create a version using \"Save & Run All\" \n",
    "# You can also write temporary files to /kaggle/temp/, but they won't be saved outside of the current session\n"
   ]
  },
  {
   "cell_type": "code",
   "execution_count": null,
   "metadata": {
    "execution": {
     "iopub.execute_input": "2021-12-04T12:05:36.791432Z",
     "iopub.status.busy": "2021-12-04T12:05:36.791083Z",
     "iopub.status.idle": "2021-12-04T12:05:36.846791Z",
     "shell.execute_reply": "2021-12-04T12:05:36.845732Z",
     "shell.execute_reply.started": "2021-12-04T12:05:36.791386Z"
    }
   },
   "outputs": [],
   "source": [
    "df = pd.read_csv('../input/tv-series-dataset/series_data.csv')\n",
    "df"
   ]
  },
  {
   "cell_type": "code",
   "execution_count": null,
   "metadata": {
    "execution": {
     "iopub.execute_input": "2021-12-04T12:05:36.849709Z",
     "iopub.status.busy": "2021-12-04T12:05:36.849339Z",
     "iopub.status.idle": "2021-12-04T12:05:36.855139Z",
     "shell.execute_reply": "2021-12-04T12:05:36.854027Z",
     "shell.execute_reply.started": "2021-12-04T12:05:36.849657Z"
    }
   },
   "outputs": [],
   "source": [
    "\n"
   ]
  },
  {
   "cell_type": "code",
   "execution_count": null,
   "metadata": {
    "execution": {
     "iopub.execute_input": "2021-12-04T12:05:36.857955Z",
     "iopub.status.busy": "2021-12-04T12:05:36.856928Z",
     "iopub.status.idle": "2021-12-04T12:05:36.889657Z",
     "shell.execute_reply": "2021-12-04T12:05:36.888671Z",
     "shell.execute_reply.started": "2021-12-04T12:05:36.857884Z"
    }
   },
   "outputs": [],
   "source": [
    "df"
   ]
  },
  {
   "cell_type": "code",
   "execution_count": null,
   "metadata": {
    "execution": {
     "iopub.execute_input": "2021-12-04T12:05:36.892651Z",
     "iopub.status.busy": "2021-12-04T12:05:36.892295Z",
     "iopub.status.idle": "2021-12-04T12:05:36.899341Z",
     "shell.execute_reply": "2021-12-04T12:05:36.898409Z",
     "shell.execute_reply.started": "2021-12-04T12:05:36.892605Z"
    }
   },
   "outputs": [],
   "source": [
    "def combine_features(df):\n",
    "    features = []\n",
    "    for i in range(0,df.shape[0]):\n",
    "        features.append(df['Genre'][i])\n",
    "    return features"
   ]
  },
  {
   "cell_type": "code",
   "execution_count": null,
   "metadata": {
    "execution": {
     "iopub.execute_input": "2021-12-04T12:05:36.900958Z",
     "iopub.status.busy": "2021-12-04T12:05:36.900667Z",
     "iopub.status.idle": "2021-12-04T12:05:36.953507Z",
     "shell.execute_reply": "2021-12-04T12:05:36.95248Z",
     "shell.execute_reply.started": "2021-12-04T12:05:36.90091Z"
    }
   },
   "outputs": [],
   "source": [
    "df['combined_features'] = combine_features(df)\n",
    "df"
   ]
  },
  {
   "cell_type": "code",
   "execution_count": null,
   "metadata": {
    "execution": {
     "iopub.execute_input": "2021-12-04T12:05:36.955606Z",
     "iopub.status.busy": "2021-12-04T12:05:36.955241Z",
     "iopub.status.idle": "2021-12-04T12:05:36.977039Z",
     "shell.execute_reply": "2021-12-04T12:05:36.975861Z",
     "shell.execute_reply.started": "2021-12-04T12:05:36.955569Z"
    }
   },
   "outputs": [],
   "source": [
    "#Text to matrix\n",
    "cm = CountVectorizer().fit_transform(df['combined_features'])"
   ]
  },
  {
   "cell_type": "code",
   "execution_count": null,
   "metadata": {
    "execution": {
     "iopub.execute_input": "2021-12-04T12:05:36.979225Z",
     "iopub.status.busy": "2021-12-04T12:05:36.978919Z",
     "iopub.status.idle": "2021-12-04T12:05:37.089119Z",
     "shell.execute_reply": "2021-12-04T12:05:37.088073Z",
     "shell.execute_reply.started": "2021-12-04T12:05:36.979189Z"
    }
   },
   "outputs": [],
   "source": [
    "cs = cosine_similarity(cm)\n",
    "cs"
   ]
  },
  {
   "cell_type": "code",
   "execution_count": null,
   "metadata": {
    "execution": {
     "iopub.execute_input": "2021-12-04T12:05:37.091571Z",
     "iopub.status.busy": "2021-12-04T12:05:37.091201Z",
     "iopub.status.idle": "2021-12-04T12:05:37.110796Z",
     "shell.execute_reply": "2021-12-04T12:05:37.109897Z",
     "shell.execute_reply.started": "2021-12-04T12:05:37.091525Z"
    }
   },
   "outputs": [],
   "source": [
    "df[\"movie_id\"] = df.index\n",
    "df.head(2)"
   ]
  },
  {
   "cell_type": "code",
   "execution_count": null,
   "metadata": {
    "execution": {
     "iopub.execute_input": "2021-12-04T12:05:37.113539Z",
     "iopub.status.busy": "2021-12-04T12:05:37.113233Z",
     "iopub.status.idle": "2021-12-04T12:05:37.119747Z",
     "shell.execute_reply": "2021-12-04T12:05:37.119151Z",
     "shell.execute_reply.started": "2021-12-04T12:05:37.113507Z"
    }
   },
   "outputs": [],
   "source": [
    "my_fav_mov='Game of Thrones'"
   ]
  },
  {
   "cell_type": "code",
   "execution_count": null,
   "metadata": {
    "execution": {
     "iopub.execute_input": "2021-12-04T12:05:37.12155Z",
     "iopub.status.busy": "2021-12-04T12:05:37.121266Z",
     "iopub.status.idle": "2021-12-04T12:05:37.139984Z",
     "shell.execute_reply": "2021-12-04T12:05:37.139268Z",
     "shell.execute_reply.started": "2021-12-04T12:05:37.121517Z"
    }
   },
   "outputs": [],
   "source": [
    "mov_id = df[df.Series_Title == my_fav_mov]['movie_id'].iloc[0]\n",
    "mov_id"
   ]
  },
  {
   "cell_type": "code",
   "execution_count": null,
   "metadata": {
    "execution": {
     "iopub.execute_input": "2021-12-04T12:05:37.142102Z",
     "iopub.status.busy": "2021-12-04T12:05:37.141629Z",
     "iopub.status.idle": "2021-12-04T12:05:37.147368Z",
     "shell.execute_reply": "2021-12-04T12:05:37.146541Z",
     "shell.execute_reply.started": "2021-12-04T12:05:37.142057Z"
    }
   },
   "outputs": [],
   "source": [
    "scores = list(enumerate(cs[mov_id]))\n"
   ]
  },
  {
   "cell_type": "code",
   "execution_count": null,
   "metadata": {
    "execution": {
     "iopub.execute_input": "2021-12-04T12:05:37.149056Z",
     "iopub.status.busy": "2021-12-04T12:05:37.148511Z",
     "iopub.status.idle": "2021-12-04T12:05:37.162189Z",
     "shell.execute_reply": "2021-12-04T12:05:37.161131Z",
     "shell.execute_reply.started": "2021-12-04T12:05:37.148974Z"
    }
   },
   "outputs": [],
   "source": [
    "sorted_scores = sorted(scores, key=lambda x: x[1], reverse=True)\n",
    "sorted_scores = sorted_scores[1:]"
   ]
  },
  {
   "cell_type": "code",
   "execution_count": null,
   "metadata": {
    "execution": {
     "iopub.execute_input": "2021-12-04T12:05:37.164107Z",
     "iopub.status.busy": "2021-12-04T12:05:37.163821Z",
     "iopub.status.idle": "2021-12-04T12:05:37.303813Z",
     "shell.execute_reply": "2021-12-04T12:05:37.302624Z",
     "shell.execute_reply.started": "2021-12-04T12:05:37.164072Z"
    }
   },
   "outputs": [],
   "source": [
    "j = 0\n",
    "print(\"Top 10 Most Recommended Books for '\",my_fav_mov,\" ----  Readers \\n\"  )\n",
    "for item in sorted_scores:\n",
    "    series_title = df[df.movie_id == item[0]]['Series_Title'].values[0]\n",
    "    \n",
    "    print(j+1, series_title, '------', \"------ Similarity:\",round(item[1],2) )\n",
    "    j= j+1\n",
    "    if j >=100:\n",
    "        break\n"
   ]
  },
  {
   "cell_type": "code",
   "execution_count": null,
   "metadata": {
    "execution": {
     "iopub.execute_input": "2021-12-04T12:08:21.69921Z",
     "iopub.status.busy": "2021-12-04T12:08:21.698464Z",
     "iopub.status.idle": "2021-12-04T12:08:21.752496Z",
     "shell.execute_reply": "2021-12-04T12:08:21.751548Z",
     "shell.execute_reply.started": "2021-12-04T12:08:21.699162Z"
    }
   },
   "outputs": [],
   "source": [
    "#df.to_csv(r'./df_tvSeries.csv', index = False, header=True)"
   ]
  },
  {
   "cell_type": "code",
   "execution_count": 7,
   "metadata": {},
   "outputs": [
    {
     "data": {
      "text/html": [
       "<div>\n",
       "<style scoped>\n",
       "    .dataframe tbody tr th:only-of-type {\n",
       "        vertical-align: middle;\n",
       "    }\n",
       "\n",
       "    .dataframe tbody tr th {\n",
       "        vertical-align: top;\n",
       "    }\n",
       "\n",
       "    .dataframe thead th {\n",
       "        text-align: right;\n",
       "    }\n",
       "</style>\n",
       "<table border=\"1\" class=\"dataframe\">\n",
       "  <thead>\n",
       "    <tr style=\"text-align: right;\">\n",
       "      <th></th>\n",
       "      <th>Poster_Link</th>\n",
       "      <th>Series_Title</th>\n",
       "      <th>Runtime_of_Series</th>\n",
       "      <th>Certificate</th>\n",
       "      <th>Runtime_of_Episodes</th>\n",
       "      <th>Genre</th>\n",
       "      <th>IMDB_Rating</th>\n",
       "      <th>Overview</th>\n",
       "      <th>Star1</th>\n",
       "      <th>Star2</th>\n",
       "      <th>Star3</th>\n",
       "      <th>Star4</th>\n",
       "      <th>No_of_Votes</th>\n",
       "      <th>combined_features</th>\n",
       "      <th>movie_id</th>\n",
       "    </tr>\n",
       "  </thead>\n",
       "  <tbody>\n",
       "    <tr>\n",
       "      <th>0</th>\n",
       "      <td>https://m.media-amazon.com/images/M/MV5BYTRiND...</td>\n",
       "      <td>Game of Thrones</td>\n",
       "      <td>(2011–2019)</td>\n",
       "      <td>A</td>\n",
       "      <td>57 min</td>\n",
       "      <td>Action, Adventure, Drama</td>\n",
       "      <td>9.3</td>\n",
       "      <td>Nine noble families fight for control over the...</td>\n",
       "      <td>Emilia Clarke</td>\n",
       "      <td>Peter Dinklage</td>\n",
       "      <td>Kit Harington</td>\n",
       "      <td>Lena Headey</td>\n",
       "      <td>1773458</td>\n",
       "      <td>Action, Adventure, Drama</td>\n",
       "      <td>0</td>\n",
       "    </tr>\n",
       "    <tr>\n",
       "      <th>1</th>\n",
       "      <td>https://m.media-amazon.com/images/M/MV5BMjhiMz...</td>\n",
       "      <td>Breaking Bad</td>\n",
       "      <td>(2008–2013)</td>\n",
       "      <td>18</td>\n",
       "      <td>49 min</td>\n",
       "      <td>Crime, Drama, Thriller</td>\n",
       "      <td>9.5</td>\n",
       "      <td>A high school chemistry teacher diagnosed with...</td>\n",
       "      <td>Bryan Cranston</td>\n",
       "      <td>Aaron Paul</td>\n",
       "      <td>Anna Gunn</td>\n",
       "      <td>Betsy Brandt</td>\n",
       "      <td>1468887</td>\n",
       "      <td>Crime, Drama, Thriller</td>\n",
       "      <td>1</td>\n",
       "    </tr>\n",
       "    <tr>\n",
       "      <th>2</th>\n",
       "      <td>https://m.media-amazon.com/images/M/MV5BMTc5Zm...</td>\n",
       "      <td>The Walking Dead</td>\n",
       "      <td>(2010– )</td>\n",
       "      <td>18+</td>\n",
       "      <td>44 min</td>\n",
       "      <td>Drama, Horror, Thriller</td>\n",
       "      <td>8.2</td>\n",
       "      <td>Sheriff Deputy Rick Grimes wakes up from a com...</td>\n",
       "      <td>Andrew Lincoln</td>\n",
       "      <td>Norman Reedus</td>\n",
       "      <td>Melissa McBride</td>\n",
       "      <td>Danai Gurira</td>\n",
       "      <td>854698</td>\n",
       "      <td>Drama, Horror, Thriller</td>\n",
       "      <td>2</td>\n",
       "    </tr>\n",
       "    <tr>\n",
       "      <th>3</th>\n",
       "      <td>https://m.media-amazon.com/images/M/MV5BNDVkYj...</td>\n",
       "      <td>Friends</td>\n",
       "      <td>(1994–2004)</td>\n",
       "      <td>13+</td>\n",
       "      <td>22 min</td>\n",
       "      <td>Comedy, Romance</td>\n",
       "      <td>8.9</td>\n",
       "      <td>Follows the personal and professional lives of...</td>\n",
       "      <td>Jennifer Aniston</td>\n",
       "      <td>Courteney Cox</td>\n",
       "      <td>Lisa Kudrow</td>\n",
       "      <td>Matt LeBlanc</td>\n",
       "      <td>829816</td>\n",
       "      <td>Comedy, Romance</td>\n",
       "      <td>3</td>\n",
       "    </tr>\n",
       "    <tr>\n",
       "      <th>4</th>\n",
       "      <td>https://m.media-amazon.com/images/M/MV5BMjEzMD...</td>\n",
       "      <td>Stranger Things</td>\n",
       "      <td>(2016– )</td>\n",
       "      <td>15</td>\n",
       "      <td>51 min</td>\n",
       "      <td>Drama, Fantasy, Horror</td>\n",
       "      <td>8.7</td>\n",
       "      <td>When a young boy disappears, his mother, a pol...</td>\n",
       "      <td>Millie Bobby Brown</td>\n",
       "      <td>Finn Wolfhard</td>\n",
       "      <td>Winona Ryder</td>\n",
       "      <td>David Harbour</td>\n",
       "      <td>824966</td>\n",
       "      <td>Drama, Fantasy, Horror</td>\n",
       "      <td>4</td>\n",
       "    </tr>\n",
       "    <tr>\n",
       "      <th>...</th>\n",
       "      <td>...</td>\n",
       "      <td>...</td>\n",
       "      <td>...</td>\n",
       "      <td>...</td>\n",
       "      <td>...</td>\n",
       "      <td>...</td>\n",
       "      <td>...</td>\n",
       "      <td>...</td>\n",
       "      <td>...</td>\n",
       "      <td>...</td>\n",
       "      <td>...</td>\n",
       "      <td>...</td>\n",
       "      <td>...</td>\n",
       "      <td>...</td>\n",
       "      <td>...</td>\n",
       "    </tr>\n",
       "    <tr>\n",
       "      <th>1995</th>\n",
       "      <td>https://m.media-amazon.com/images/M/MV5BYTk4OG...</td>\n",
       "      <td>Shaman Kingu</td>\n",
       "      <td>(2001–2005)</td>\n",
       "      <td>NaN</td>\n",
       "      <td>23 min</td>\n",
       "      <td>Animation, Action, Adventure</td>\n",
       "      <td>8.1</td>\n",
       "      <td>SHAMAN KING follows the adventures of a 13-yea...</td>\n",
       "      <td>Oliver Wyman</td>\n",
       "      <td>Andrew Rannells</td>\n",
       "      <td>Michael Sinterniklaas</td>\n",
       "      <td>Megumi Hayashibara</td>\n",
       "      <td>5131</td>\n",
       "      <td>Animation, Action, Adventure</td>\n",
       "      <td>1995</td>\n",
       "    </tr>\n",
       "    <tr>\n",
       "      <th>1996</th>\n",
       "      <td>https://m.media-amazon.com/images/M/MV5BMTUyND...</td>\n",
       "      <td>Eerie, Indiana</td>\n",
       "      <td>(1991–1992)</td>\n",
       "      <td>NaN</td>\n",
       "      <td>30 min</td>\n",
       "      <td>Adventure, Comedy, Drama</td>\n",
       "      <td>8.2</td>\n",
       "      <td>Teenage weirdness investigator Marshall Teller...</td>\n",
       "      <td>Omri Katz</td>\n",
       "      <td>Justin Shenkarow</td>\n",
       "      <td>Mary-Margaret Humes</td>\n",
       "      <td>Francis Guinan</td>\n",
       "      <td>5128</td>\n",
       "      <td>Adventure, Comedy, Drama</td>\n",
       "      <td>1996</td>\n",
       "    </tr>\n",
       "    <tr>\n",
       "      <th>1997</th>\n",
       "      <td>https://m.media-amazon.com/images/M/MV5BMTcxMD...</td>\n",
       "      <td>Gunsmoke</td>\n",
       "      <td>(1955–1975)</td>\n",
       "      <td>NaN</td>\n",
       "      <td>60 min</td>\n",
       "      <td>Western</td>\n",
       "      <td>7.9</td>\n",
       "      <td>Marshal Matt Dillon keeps the peace in rough a...</td>\n",
       "      <td>James Arness</td>\n",
       "      <td>Milburn Stone</td>\n",
       "      <td>Amanda Blake</td>\n",
       "      <td>Ken Curtis</td>\n",
       "      <td>5115</td>\n",
       "      <td>Western</td>\n",
       "      <td>1997</td>\n",
       "    </tr>\n",
       "    <tr>\n",
       "      <th>1998</th>\n",
       "      <td>https://m.media-amazon.com/images/M/MV5BYWQwNm...</td>\n",
       "      <td>The Cheat</td>\n",
       "      <td>(2017– )</td>\n",
       "      <td>NaN</td>\n",
       "      <td>20 min</td>\n",
       "      <td>Action, Drama, Sci-Fi</td>\n",
       "      <td>8.8</td>\n",
       "      <td>Felix is a software developer who works for th...</td>\n",
       "      <td>Taha Ulukaya</td>\n",
       "      <td>Taner Sahin</td>\n",
       "      <td>Andac Ulukaya</td>\n",
       "      <td>Neslihan Ulusoy</td>\n",
       "      <td>5111</td>\n",
       "      <td>Action, Drama, Sci-Fi</td>\n",
       "      <td>1998</td>\n",
       "    </tr>\n",
       "    <tr>\n",
       "      <th>1999</th>\n",
       "      <td>https://m.media-amazon.com/images/M/MV5BMjQ5Mj...</td>\n",
       "      <td>Comic Book Men</td>\n",
       "      <td>(2012–2018)</td>\n",
       "      <td>NaN</td>\n",
       "      <td>22 min</td>\n",
       "      <td>Comedy, Reality-TV</td>\n",
       "      <td>7.7</td>\n",
       "      <td>An unscripted series set in Smith's iconic com...</td>\n",
       "      <td>Kevin Smith</td>\n",
       "      <td>Walter Flanagan</td>\n",
       "      <td>Mike Zapcic</td>\n",
       "      <td>Bryan Johnson</td>\n",
       "      <td>5109</td>\n",
       "      <td>Comedy, Reality-TV</td>\n",
       "      <td>1999</td>\n",
       "    </tr>\n",
       "  </tbody>\n",
       "</table>\n",
       "<p>2000 rows × 15 columns</p>\n",
       "</div>"
      ],
      "text/plain": [
       "                                            Poster_Link      Series_Title  \\\n",
       "0     https://m.media-amazon.com/images/M/MV5BYTRiND...   Game of Thrones   \n",
       "1     https://m.media-amazon.com/images/M/MV5BMjhiMz...      Breaking Bad   \n",
       "2     https://m.media-amazon.com/images/M/MV5BMTc5Zm...  The Walking Dead   \n",
       "3     https://m.media-amazon.com/images/M/MV5BNDVkYj...           Friends   \n",
       "4     https://m.media-amazon.com/images/M/MV5BMjEzMD...   Stranger Things   \n",
       "...                                                 ...               ...   \n",
       "1995  https://m.media-amazon.com/images/M/MV5BYTk4OG...      Shaman Kingu   \n",
       "1996  https://m.media-amazon.com/images/M/MV5BMTUyND...    Eerie, Indiana   \n",
       "1997  https://m.media-amazon.com/images/M/MV5BMTcxMD...          Gunsmoke   \n",
       "1998  https://m.media-amazon.com/images/M/MV5BYWQwNm...         The Cheat   \n",
       "1999  https://m.media-amazon.com/images/M/MV5BMjQ5Mj...    Comic Book Men   \n",
       "\n",
       "     Runtime_of_Series Certificate Runtime_of_Episodes  \\\n",
       "0          (2011–2019)           A              57 min   \n",
       "1          (2008–2013)          18              49 min   \n",
       "2             (2010– )         18+              44 min   \n",
       "3          (1994–2004)         13+              22 min   \n",
       "4             (2016– )          15              51 min   \n",
       "...                ...         ...                 ...   \n",
       "1995       (2001–2005)         NaN              23 min   \n",
       "1996       (1991–1992)         NaN              30 min   \n",
       "1997       (1955–1975)         NaN              60 min   \n",
       "1998          (2017– )         NaN              20 min   \n",
       "1999       (2012–2018)         NaN              22 min   \n",
       "\n",
       "                             Genre  IMDB_Rating  \\\n",
       "0         Action, Adventure, Drama          9.3   \n",
       "1           Crime, Drama, Thriller          9.5   \n",
       "2          Drama, Horror, Thriller          8.2   \n",
       "3                  Comedy, Romance          8.9   \n",
       "4           Drama, Fantasy, Horror          8.7   \n",
       "...                            ...          ...   \n",
       "1995  Animation, Action, Adventure          8.1   \n",
       "1996      Adventure, Comedy, Drama          8.2   \n",
       "1997                       Western          7.9   \n",
       "1998         Action, Drama, Sci-Fi          8.8   \n",
       "1999            Comedy, Reality-TV          7.7   \n",
       "\n",
       "                                               Overview               Star1  \\\n",
       "0     Nine noble families fight for control over the...       Emilia Clarke   \n",
       "1     A high school chemistry teacher diagnosed with...      Bryan Cranston   \n",
       "2     Sheriff Deputy Rick Grimes wakes up from a com...      Andrew Lincoln   \n",
       "3     Follows the personal and professional lives of...    Jennifer Aniston   \n",
       "4     When a young boy disappears, his mother, a pol...  Millie Bobby Brown   \n",
       "...                                                 ...                 ...   \n",
       "1995  SHAMAN KING follows the adventures of a 13-yea...        Oliver Wyman   \n",
       "1996  Teenage weirdness investigator Marshall Teller...           Omri Katz   \n",
       "1997  Marshal Matt Dillon keeps the peace in rough a...        James Arness   \n",
       "1998  Felix is a software developer who works for th...        Taha Ulukaya   \n",
       "1999  An unscripted series set in Smith's iconic com...         Kevin Smith   \n",
       "\n",
       "                 Star2                  Star3               Star4  \\\n",
       "0       Peter Dinklage          Kit Harington         Lena Headey   \n",
       "1           Aaron Paul              Anna Gunn        Betsy Brandt   \n",
       "2        Norman Reedus        Melissa McBride        Danai Gurira   \n",
       "3        Courteney Cox            Lisa Kudrow        Matt LeBlanc   \n",
       "4        Finn Wolfhard           Winona Ryder       David Harbour   \n",
       "...                ...                    ...                 ...   \n",
       "1995   Andrew Rannells  Michael Sinterniklaas  Megumi Hayashibara   \n",
       "1996  Justin Shenkarow    Mary-Margaret Humes      Francis Guinan   \n",
       "1997     Milburn Stone           Amanda Blake          Ken Curtis   \n",
       "1998       Taner Sahin          Andac Ulukaya     Neslihan Ulusoy   \n",
       "1999   Walter Flanagan            Mike Zapcic       Bryan Johnson   \n",
       "\n",
       "      No_of_Votes             combined_features  movie_id  \n",
       "0         1773458      Action, Adventure, Drama         0  \n",
       "1         1468887        Crime, Drama, Thriller         1  \n",
       "2          854698       Drama, Horror, Thriller         2  \n",
       "3          829816               Comedy, Romance         3  \n",
       "4          824966        Drama, Fantasy, Horror         4  \n",
       "...           ...                           ...       ...  \n",
       "1995         5131  Animation, Action, Adventure      1995  \n",
       "1996         5128      Adventure, Comedy, Drama      1996  \n",
       "1997         5115                       Western      1997  \n",
       "1998         5111         Action, Drama, Sci-Fi      1998  \n",
       "1999         5109            Comedy, Reality-TV      1999  \n",
       "\n",
       "[2000 rows x 15 columns]"
      ]
     },
     "execution_count": 7,
     "metadata": {},
     "output_type": "execute_result"
    }
   ],
   "source": [
    "df = pd.read_csv('C:/Users/onursercanyilmaz/Documents/GitHub/RecSy/ml/df_tvSeries.csv')\n",
    "df"
   ]
  },
  {
   "cell_type": "code",
   "execution_count": 10,
   "metadata": {},
   "outputs": [],
   "source": [
    "def recommendations(fav_series_title,df):\n",
    "    #Text to matrix\n",
    "    cm = CountVectorizer().fit_transform(df['combined_features'])\n",
    "    cs = cosine_similarity(cm)\n",
    "    mov_id = df[df.Series_Title == fav_series_title]['movie_id'].iloc[0]\n",
    "    scores = list(enumerate(cs[mov_id]))\n",
    "    sorted_scores = sorted(scores, key=lambda x: x[1], reverse=True)\n",
    "    sorted_scores = sorted_scores[1:]\n",
    "    \n",
    "    j = 0\n",
    "    print(\"Top 10 Most Recommended Books for '\",fav_series_title,\" ----  Readers \\n\"  )\n",
    "    for item in sorted_scores:\n",
    "        series_title = df[df.movie_id == item[0]]['Series_Title'].values[0]\n",
    "\n",
    "        print(j+1, series_title, '------', \"------ Similarity:\",round(item[1],2) )\n",
    "        j= j+1\n",
    "        if j >=100:\n",
    "            break\n",
    "    \n",
    "    "
   ]
  },
  {
   "cell_type": "code",
   "execution_count": 11,
   "metadata": {},
   "outputs": [
    {
     "name": "stdout",
     "output_type": "stream",
     "text": [
      "Top 10 Most Recommended Books for ' Shaman Kingu  ----  Readers \n",
      "\n",
      "1 Shingeki no kyojin ------ ------ Similarity: 1.0\n",
      "2 Hagane no renkinjutsushi ------ ------ Similarity: 1.0\n",
      "3 Dragon Ball Z ------ ------ Similarity: 1.0\n",
      "4 The Legend of Korra ------ ------ Similarity: 1.0\n",
      "5 Kaubôi bibappu ------ ------ Similarity: 1.0\n",
      "6 Batman: The Animated Series ------ ------ Similarity: 1.0\n",
      "7 Naruto: Shippûden ------ ------ Similarity: 1.0\n",
      "8 Naruto ------ ------ Similarity: 1.0\n",
      "9 One Piece: Wan pîsu ------ ------ Similarity: 1.0\n",
      "10 Dragon Ball Z: Doragon bôru zetto ------ ------ Similarity: 1.0\n",
      "11 Star Wars: The Clone Wars ------ ------ Similarity: 1.0\n",
      "12 Hagane no renkinjutsushi ------ ------ Similarity: 1.0\n",
      "13 Hunter x Hunter ------ ------ Similarity: 1.0\n",
      "14 Dragon Ball ------ ------ Similarity: 1.0\n",
      "15 Dragon Ball: Doragon bôru ------ ------ Similarity: 1.0\n",
      "16 Disenchantment ------ ------ Similarity: 1.0\n",
      "17 Samurai Jack ------ ------ Similarity: 1.0\n",
      "18 Bleach: Burîchi ------ ------ Similarity: 1.0\n",
      "19 Justice League ------ ------ Similarity: 1.0\n",
      "20 Samurai chanpurû ------ ------ Similarity: 1.0\n",
      "21 Castlevania ------ ------ Similarity: 1.0\n",
      "22 Poketto monsutâ ------ ------ Similarity: 1.0\n",
      "23 The Powerpuff Girls ------ ------ Similarity: 1.0\n",
      "24 Sword Art Online ------ ------ Similarity: 1.0\n",
      "25 Boku no hîrô akademia ------ ------ Similarity: 1.0\n",
      "26 Final Space ------ ------ Similarity: 1.0\n",
      "27 Young Justice ------ ------ Similarity: 1.0\n",
      "28 Star Wars: Rebels ------ ------ Similarity: 1.0\n",
      "29 Teenage Mutant Ninja Turtles ------ ------ Similarity: 1.0\n",
      "30 Kenpû Denki Berserk ------ ------ Similarity: 1.0\n",
      "31 Spider-Man ------ ------ Similarity: 1.0\n",
      "32 Teen Titans ------ ------ Similarity: 1.0\n",
      "33 Batman Beyond ------ ------ Similarity: 1.0\n",
      "34 Kim Possible ------ ------ Similarity: 1.0\n",
      "35 Dragon Ball GT: Doragon bôru jîtî ------ ------ Similarity: 1.0\n",
      "36 Dragon Ball Super: Doragon bôru cho ------ ------ Similarity: 1.0\n",
      "37 The Venture Bros. ------ ------ Similarity: 1.0\n",
      "38 Nanatsu no taizai ------ ------ Similarity: 1.0\n",
      "39 Star Wars: Clone Wars ------ ------ Similarity: 1.0\n",
      "40 Fairy Tail: Fearî teiru ------ ------ Similarity: 1.0\n",
      "41 Digimon: Digital Monsters ------ ------ Similarity: 1.0\n",
      "42 Transformers ------ ------ Similarity: 1.0\n",
      "43 Dragon Ball Kai: Doragon bôru kai ------ ------ Similarity: 1.0\n",
      "44 Invader ZIM ------ ------ Similarity: 1.0\n",
      "45 Inspector Gadget ------ ------ Similarity: 1.0\n",
      "46 Yu-Gi-Oh! ------ ------ Similarity: 1.0\n",
      "47 Jackie Chan Adventures ------ ------ Similarity: 1.0\n",
      "48 Rurôni Kenshin - Meiji kenkaku romantan ------ ------ Similarity: 1.0\n",
      "49 Codename: Kids Next Door ------ ------ Similarity: 1.0\n",
      "50 The Adventures of Tintin ------ ------ Similarity: 1.0\n",
      "51 He-Man and the Masters of the Universe ------ ------ Similarity: 1.0\n",
      "52 Thundercats ------ ------ Similarity: 1.0\n",
      "53 The Penguins of Madagascar ------ ------ Similarity: 1.0\n",
      "54 Danny Phantom ------ ------ Similarity: 1.0\n",
      "55 Darkwing Duck ------ ------ Similarity: 1.0\n",
      "56 Tengen toppa gurren lagann ------ ------ Similarity: 1.0\n",
      "57 Inuyasha ------ ------ Similarity: 1.0\n",
      "58 The New Batman Adventures ------ ------ Similarity: 1.0\n",
      "59 Gargoyles ------ ------ Similarity: 1.0\n",
      "60 Vinland Saga ------ ------ Similarity: 1.0\n",
      "61 Superman ------ ------ Similarity: 1.0\n",
      "62 TaleSpin ------ ------ Similarity: 1.0\n",
      "63 Trollhunters ------ ------ Similarity: 1.0\n",
      "64 Ben 10 ------ ------ Similarity: 1.0\n",
      "65 Harley Quinn ------ ------ Similarity: 1.0\n",
      "66 Ergo Proxy ------ ------ Similarity: 1.0\n",
      "67 Kureimoa ------ ------ Similarity: 1.0\n",
      "68 Black Lagoon ------ ------ Similarity: 1.0\n",
      "69 The Mask ------ ------ Similarity: 1.0\n",
      "70 Sailor Moon ------ ------ Similarity: 1.0\n",
      "71 Yu yu hakusho ------ ------ Similarity: 1.0\n",
      "72 Sôru îtâ ------ ------ Similarity: 1.0\n",
      "73 Noragami ------ ------ Similarity: 1.0\n",
      "74 Meitantei Conan ------ ------ Similarity: 1.0\n",
      "75 Justice League Unlimited ------ ------ Similarity: 1.0\n",
      "76 Star vs. the Forces of Evil ------ ------ Similarity: 1.0\n",
      "77 Captain Planet and the Planeteers ------ ------ Similarity: 1.0\n",
      "78 The Spectacular Spider-Man ------ ------ Similarity: 1.0\n",
      "79 Baccano! ------ ------ Similarity: 1.0\n",
      "80 Ultimate Spider-Man ------ ------ Similarity: 1.0\n",
      "81 She-Ra and the Princesses of Power ------ ------ Similarity: 1.0\n",
      "82 The Batman ------ ------ Similarity: 1.0\n",
      "83 JoJo no kimyô-na bôken ------ ------ Similarity: 1.0\n",
      "84 Aladdin ------ ------ Similarity: 1.0\n",
      "85 Wolverine and the X-Men ------ ------ Similarity: 1.0\n",
      "86 Hercules ------ ------ Similarity: 1.0\n",
      "87 Dokutaa Sutoon ------ ------ Similarity: 1.0\n",
      "88 Dragons: Riders of Berk ------ ------ Similarity: 1.0\n",
      "89 Seinto Seiya ------ ------ Similarity: 1.0\n",
      "90 The Tick ------ ------ Similarity: 1.0\n",
      "91 Totally Spies! ------ ------ Similarity: 1.0\n",
      "92 My Life as a Teenage Robot ------ ------ Similarity: 1.0\n",
      "93 Teenage Mutant Ninja Turtles ------ ------ Similarity: 1.0\n",
      "94 Teenage Mutant Ninja Turtles ------ ------ Similarity: 1.0\n",
      "95 Lilo & Stitch: The Series ------ ------ Similarity: 1.0\n",
      "96 Boruto: Naruto Next Generations ------ ------ Similarity: 1.0\n",
      "97 Black Clover ------ ------ Similarity: 1.0\n",
      "98 TRON: Uprising ------ ------ Similarity: 1.0\n",
      "99 Batman: The Brave and the Bold ------ ------ Similarity: 1.0\n",
      "100 Spawn ------ ------ Similarity: 1.0\n"
     ]
    }
   ],
   "source": [
    "recommendations(\"Shaman Kingu\",df)"
   ]
  },
  {
   "cell_type": "code",
   "execution_count": null,
   "metadata": {},
   "outputs": [],
   "source": []
  }
 ],
 "metadata": {
  "kernelspec": {
   "display_name": "Python 3",
   "language": "python",
   "name": "python3"
  },
  "language_info": {
   "codemirror_mode": {
    "name": "ipython",
    "version": 3
   },
   "file_extension": ".py",
   "mimetype": "text/x-python",
   "name": "python",
   "nbconvert_exporter": "python",
   "pygments_lexer": "ipython3",
   "version": "3.8.5"
  }
 },
 "nbformat": 4,
 "nbformat_minor": 4
}
